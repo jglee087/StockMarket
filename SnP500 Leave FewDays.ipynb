{
 "cells": [
  {
   "cell_type": "code",
   "execution_count": 1,
   "metadata": {},
   "outputs": [],
   "source": [
    "import pandas as pd\n",
    "import matplotlib.pyplot as plt\n",
    "import numpy as np\n",
    "\n",
    "df=pd.read_csv(\"Snp 500 Daily 1928.csv\")"
   ]
  },
  {
   "cell_type": "code",
   "execution_count": 2,
   "metadata": {},
   "outputs": [],
   "source": [
    "date=list(df[\"Date\"])\n",
    "\n",
    "pri_o=list(df[\"Open\"])\n",
    "pri_c=list(df[\"Close\"])\n",
    "\n",
    "yr=range(1928,2021,1)"
   ]
  },
  {
   "cell_type": "markdown",
   "metadata": {},
   "source": [
    "# Biggest Down & Biggest Up Days"
   ]
  },
  {
   "cell_type": "code",
   "execution_count": 3,
   "metadata": {},
   "outputs": [],
   "source": [
    "pr=np.array(pri_c)\n",
    "prt=(pr[1:]-pr[0:-1])/pr[0:-1]*100\n",
    "\n",
    "x=dict(zip(date[1:],prt))\n",
    "\n",
    "import operator\n",
    "s1=sorted(x.items(), key=operator.itemgetter(1))\n",
    "down=pd.DataFrame(s1[0:40])\n",
    "\n",
    "s2=sorted(x.items(), key=operator.itemgetter(1), reverse=True)\n",
    "up=pd.DataFrame(s2[0:40])"
   ]
  },
  {
   "cell_type": "markdown",
   "metadata": {},
   "source": [
    "# Calculate Number of Days"
   ]
  },
  {
   "cell_type": "code",
   "execution_count": 4,
   "metadata": {},
   "outputs": [],
   "source": [
    "ytr=1928\n",
    "k=0\n",
    "\n",
    "ar=list()\n",
    "\n",
    "for i in range(len(date)):\n",
    "    tmp=int(date[i][0:4])\n",
    "    \n",
    "    if tmp == ytr:\n",
    "        k+=1\n",
    "    else:\n",
    "        k+=1\n",
    "    \n",
    "        ar.append(k)\n",
    "        ytr+=1\n",
    "            \n",
    "        k=0"
   ]
  },
  {
   "cell_type": "code",
   "execution_count": 5,
   "metadata": {},
   "outputs": [],
   "source": [
    "nar=list()\n",
    "\n",
    "for i in range(len(ar)+1):\n",
    "    nar.append(sum(ar[0:i]))"
   ]
  },
  {
   "cell_type": "markdown",
   "metadata": {},
   "source": [
    "# Extract data for each year"
   ]
  },
  {
   "cell_type": "code",
   "execution_count": 6,
   "metadata": {},
   "outputs": [],
   "source": [
    "for i in range(len(ar)+1):\n",
    "    \n",
    "    if i == len(ar):\n",
    "        ijk=int(nar[i])\n",
    "\n",
    "    else:\n",
    "        \n",
    "        ix1=int(nar[i])\n",
    "        ix2=int(nar[i+1])"
   ]
  },
  {
   "cell_type": "code",
   "execution_count": 7,
   "metadata": {},
   "outputs": [],
   "source": [
    "for i in range(len(ar)+1):\n",
    "    dp_o='pri_o'+str(1928+i)\n",
    "    dp_c='pri_c'+str(1928+i)\n",
    "    dt='date'+str(1928+i)\n",
    "    \n",
    "    if i == len(ar):\n",
    "        ix=int(nar[i])\n",
    "        globals()[dp_o]=pri_o[ix-1:]\n",
    "        globals()[dp_c]=pri_c[ix-1:]\n",
    "        globals()[dt]=date[ix-1:]\n",
    "        \n",
    "        \n",
    "    else:\n",
    "        \n",
    "        ix1=int(nar[i])\n",
    "        ix2=int(nar[i+1])\n",
    "        globals()[dp_o]=pri_o[ix1:ix2-1]#date[0:250]\n",
    "        globals()[dp_c]=pri_c[ix1:ix2-1]\n",
    "        globals()[dt]=date[ix1:ix2-1]\n",
    "        \n"
   ]
  },
  {
   "cell_type": "code",
   "execution_count": 8,
   "metadata": {},
   "outputs": [],
   "source": [
    "for i in range(1929,2020):\n",
    "    n1='pri_c'+str(i)\n",
    "    n2='date'+str(i)"
   ]
  },
  {
   "cell_type": "code",
   "execution_count": 9,
   "metadata": {},
   "outputs": [],
   "source": [
    "st=2015\n",
    "fi=2017\n",
    "\n",
    "for i in range(st,fi+1):\n",
    "    \n",
    "    var='date'+str(i)\n",
    "    vari='pri_c'+str(i)\n",
    "\n",
    "    if i==st:        \n",
    "        tmp=np.array(globals()[vari])\n",
    "        dtmp=np.array(globals()[var])\n",
    "        \n",
    "    elif i == st+1:\n",
    "        tm=np.array(globals()[vari])\n",
    "        dtm=np.array(globals()[var])\n",
    "        \n",
    "        x=np.hstack([dtmp,dtm])\n",
    "        y=np.hstack([tmp,tm])\n",
    "    else:\n",
    "        x=np.hstack([x,globals()[var]])\n",
    "        y=np.hstack([y,globals()[vari]])\n",
    "        "
   ]
  },
  {
   "cell_type": "code",
   "execution_count": 10,
   "metadata": {},
   "outputs": [],
   "source": [
    "for i in range(1929,2021):\n",
    "    \n",
    "    na1='pri_c'+str(i)\n",
    "    na2='pri_c'+str(i-1)\n",
    "    globals()[na1].insert(0,globals()[na2][-1])"
   ]
  },
  {
   "cell_type": "code",
   "execution_count": 11,
   "metadata": {},
   "outputs": [],
   "source": [
    "for i in range(1929,2021):\n",
    "    na1='pri_c'+str(i)\n",
    "    globals()[na1]=np.array(globals()[na1])\n",
    "    \n",
    "\n",
    "#dpr=dpr[:]"
   ]
  },
  {
   "cell_type": "markdown",
   "metadata": {},
   "source": [
    "### One Year"
   ]
  },
  {
   "cell_type": "code",
   "execution_count": 12,
   "metadata": {},
   "outputs": [],
   "source": [
    "yr=2015\n",
    "\n",
    "na=globals()['pri_c'+str(yr)]\n",
    "na=np.array(na)\n",
    "da=globals()['date'+str(yr)]\n",
    "\n",
    "dpr=(na[1:]-na[:-1])/na[:-1]\n",
    "#dpr.sort()\n"
   ]
  },
  {
   "cell_type": "markdown",
   "metadata": {},
   "source": [
    "### 2 or More Years"
   ]
  },
  {
   "cell_type": "code",
   "execution_count": 48,
   "metadata": {},
   "outputs": [],
   "source": [
    "st=1997\n",
    "fi=2002\n",
    "\n",
    "for i in range(st,fi+1):\n",
    "    \n",
    "    na=globals()['pri_c'+str(i)]\n",
    "    na=np.array(na)\n",
    "        \n",
    "    if i == st:\n",
    "        dpr=(na[1:]-na[:-1])/na[:-1]\n",
    "        \n",
    "    else:\n",
    "        tdpr=(na[1:]-na[:-1])/na[:-1]\n",
    "        \n",
    "        \n",
    "        dpr=np.hstack([dpr,tdpr])\n",
    "                          "
   ]
  },
  {
   "cell_type": "code",
   "execution_count": 53,
   "metadata": {},
   "outputs": [
    {
     "name": "stdout",
     "output_type": "stream",
     "text": [
      "118775.82132429483 18.775821324294828 0.02909311754986721\n"
     ]
    }
   ],
   "source": [
    "x0=100000.0\n",
    "x=x0\n",
    "\n",
    "for per in dpr:\n",
    "    x=x*(1.+per)\n",
    "\n",
    "r= ((x/x0)-1. )*100 \n",
    "\n",
    "print(x, r, (1+r/100.)**(1./(fi-st+1))-1. )"
   ]
  },
  {
   "cell_type": "code",
   "execution_count": null,
   "metadata": {},
   "outputs": [],
   "source": []
  },
  {
   "cell_type": "code",
   "execution_count": null,
   "metadata": {},
   "outputs": [],
   "source": []
  },
  {
   "cell_type": "code",
   "execution_count": null,
   "metadata": {},
   "outputs": [],
   "source": []
  }
 ],
 "metadata": {
  "kernelspec": {
   "display_name": "Python 3",
   "language": "python",
   "name": "python3"
  },
  "language_info": {
   "codemirror_mode": {
    "name": "ipython",
    "version": 3
   },
   "file_extension": ".py",
   "mimetype": "text/x-python",
   "name": "python",
   "nbconvert_exporter": "python",
   "pygments_lexer": "ipython3",
   "version": "3.7.4"
  }
 },
 "nbformat": 4,
 "nbformat_minor": 2
}
