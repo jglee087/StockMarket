{
 "cells": [
  {
   "cell_type": "code",
   "execution_count": 107,
   "metadata": {},
   "outputs": [],
   "source": [
    "import pandas as pd\n",
    "import matplotlib.pyplot as plt\n",
    "import numpy as np\n",
    "\n",
    "df=pd.read_csv(\"Snp 500 Daily 1928.csv\")"
   ]
  },
  {
   "cell_type": "code",
   "execution_count": 108,
   "metadata": {},
   "outputs": [],
   "source": [
    "date=list(df[\"Date\"])\n",
    "\n",
    "pri_o=list(df[\"Open\"])\n",
    "pri_c=list(df[\"Close\"])\n",
    "\n",
    "yr=range(1928,2021,1)"
   ]
  },
  {
   "cell_type": "markdown",
   "metadata": {},
   "source": [
    "# Biggest Down & Biggest Up Days"
   ]
  },
  {
   "cell_type": "code",
   "execution_count": 109,
   "metadata": {},
   "outputs": [],
   "source": [
    "pr=np.array(pri_c)\n",
    "prt=(pr[1:]-pr[0:-1])/pr[0:-1]*100\n",
    "\n",
    "x=dict(zip(date[1:],prt))\n",
    "\n",
    "import operator\n",
    "s1=sorted(x.items(), key=operator.itemgetter(1))\n",
    "down=pd.DataFrame(s1[0:40])\n",
    "\n",
    "s2=sorted(x.items(), key=operator.itemgetter(1), reverse=True)\n",
    "up=pd.DataFrame(s2[0:40])"
   ]
  },
  {
   "cell_type": "markdown",
   "metadata": {},
   "source": [
    "# Calculate Number of Days"
   ]
  },
  {
   "cell_type": "code",
   "execution_count": 110,
   "metadata": {},
   "outputs": [],
   "source": [
    "ytr=1928\n",
    "k=0\n",
    "\n",
    "ar=list()\n",
    "\n",
    "for i in range(len(date)):\n",
    "    tmp=int(date[i][0:4])\n",
    "    \n",
    "    if tmp == ytr:\n",
    "        k+=1\n",
    "    else:\n",
    "        k+=1\n",
    "    \n",
    "        ar.append(k)\n",
    "        ytr+=1\n",
    "            \n",
    "        k=0"
   ]
  },
  {
   "cell_type": "code",
   "execution_count": 5,
   "metadata": {},
   "outputs": [],
   "source": [
    "nar=list()\n",
    "\n",
    "for i in range(len(ar)+1):\n",
    "    nar.append(sum(ar[0:i]))"
   ]
  },
  {
   "cell_type": "markdown",
   "metadata": {},
   "source": [
    "# Extract data for each year"
   ]
  },
  {
   "cell_type": "code",
   "execution_count": 6,
   "metadata": {},
   "outputs": [],
   "source": [
    "for i in range(len(ar)+1):\n",
    "    \n",
    "    if i == len(ar):\n",
    "        ijk=int(nar[i])\n",
    "\n",
    "    else:\n",
    "        \n",
    "        ix1=int(nar[i])\n",
    "        ix2=int(nar[i+1])"
   ]
  },
  {
   "cell_type": "code",
   "execution_count": 7,
   "metadata": {},
   "outputs": [],
   "source": [
    "for i in range(len(ar)+1):\n",
    "    dp_o='pri_o'+str(1928+i)\n",
    "    dp_c='pri_c'+str(1928+i)\n",
    "    dt='date'+str(1928+i)\n",
    "    \n",
    "    if i == len(ar):\n",
    "        ix=int(nar[i])\n",
    "        globals()[dp_o]=pri_o[ix-1:]\n",
    "        globals()[dp_c]=pri_c[ix-1:]\n",
    "        globals()[dt]=date[ix-1:]\n",
    "        \n",
    "        \n",
    "    else:\n",
    "        \n",
    "        ix1=int(nar[i])\n",
    "        ix2=int(nar[i+1])\n",
    "        globals()[dp_o]=pri_o[ix1:ix2-1]#date[0:250]\n",
    "        globals()[dp_c]=pri_c[ix1:ix2-1]\n",
    "        globals()[dt]=date[ix1:ix2-1]\n",
    "        \n"
   ]
  },
  {
   "cell_type": "code",
   "execution_count": 8,
   "metadata": {},
   "outputs": [],
   "source": [
    "for i in range(1929,2020):\n",
    "    n1='pri_c'+str(i)\n",
    "    n2='date'+str(i)"
   ]
  },
  {
   "cell_type": "code",
   "execution_count": 9,
   "metadata": {},
   "outputs": [],
   "source": [
    "st=2015\n",
    "fi=2017\n",
    "\n",
    "for i in range(st,fi+1):\n",
    "    \n",
    "    var='date'+str(i)\n",
    "    vari='pri_c'+str(i)\n",
    "\n",
    "    if i==st:        \n",
    "        tmp=np.array(globals()[vari])\n",
    "        dtmp=np.array(globals()[var])\n",
    "        \n",
    "    elif i == st+1:\n",
    "        tm=np.array(globals()[vari])\n",
    "        dtm=np.array(globals()[var])\n",
    "        \n",
    "        x=np.hstack([dtmp,dtm])\n",
    "        y=np.hstack([tmp,tm])\n",
    "    else:\n",
    "        x=np.hstack([x,globals()[var]])\n",
    "        y=np.hstack([y,globals()[vari]])\n",
    "        "
   ]
  },
  {
   "cell_type": "code",
   "execution_count": 10,
   "metadata": {},
   "outputs": [],
   "source": [
    "for i in range(1929,2021):\n",
    "    \n",
    "    na1='pri_c'+str(i)\n",
    "    na2='pri_c'+str(i-1)\n",
    "    globals()[na1].insert(0,globals()[na2][-1])"
   ]
  },
  {
   "cell_type": "code",
   "execution_count": 11,
   "metadata": {},
   "outputs": [],
   "source": [
    "for i in range(1929,2021):\n",
    "    na1='pri_c'+str(i)\n",
    "    globals()[na1]=np.array(globals()[na1])\n",
    "    \n",
    "\n",
    "#dpr=dpr[:]"
   ]
  },
  {
   "cell_type": "markdown",
   "metadata": {},
   "source": [
    "### One Year"
   ]
  },
  {
   "cell_type": "code",
   "execution_count": 158,
   "metadata": {},
   "outputs": [],
   "source": [
    "p=5\n",
    "\n",
    "ti=[]\n",
    "pr1=[]\n",
    "pr2=[]\n",
    "\n",
    "for yr in range(1930,2021):\n",
    "#yr=2015\n",
    "\n",
    "    na=globals()['pri_c'+str(yr)]\n",
    "    na=np.array(na)\n",
    "    da=globals()['date'+str(yr)]\n",
    "\n",
    "    dpr=(na[1:]-na[:-1])/na[:-1]\n",
    "\n",
    "    dpr.sort()\n",
    "    \n",
    "    #tdpr=dpr[:-p]\n",
    "    tdpr=dpr[p:]\n",
    "    \n",
    "    x0=1.0\n",
    "    x=x0\n",
    "    y=x0\n",
    "    \n",
    "    for per in tdpr:\n",
    "        x=x*(1.+per)\n",
    "\n",
    "    tr= ((x/x0)-1. )*100 \n",
    "    pr1.append(tr)\n",
    "    #tr1=(1+tr/100.)**(1./(fi-st+1))-1.\n",
    "\n",
    "    for per in dpr:\n",
    "\n",
    "        y=y*(1.+per)\n",
    "\n",
    "    r= ((y/x0)-1. )*100 \n",
    "    #r1=(1+r/100.)**(1./(fi-st+1))-1.\n",
    "    pr2.append(r)\n",
    "    #print(yr, ' - ', str(p)+' Days %15.2f  \\t All days %15.2f' % (tr,r) )\n",
    "    ti.append(yr)"
   ]
  },
  {
   "cell_type": "code",
   "execution_count": 82,
   "metadata": {},
   "outputs": [
    {
     "name": "stdout",
     "output_type": "stream",
     "text": [
      "91\n"
     ]
    },
    {
     "data": {
      "text/plain": [
       "<BarContainer object of 91 artists>"
      ]
     },
     "execution_count": 82,
     "metadata": {},
     "output_type": "execute_result"
    },
    {
     "data": {
      "image/png": "[encoded data removed]",
      "text/plain": [
       "<Figure size 864x576 with 1 Axes>"
      ]
     },
     "metadata": {
      "needs_background": "light"
     },
     "output_type": "display_data"
    }
   ],
   "source": [
    "ti=np.array(ti)\n",
    "print(len(ti))\n",
    "\n",
    "st=0\n",
    "fi=99\n",
    "\n",
    "plt.figure(figsize=(12,8))\n",
    "plt.bar(ti[st:fi]-0.15,pr1[st:fi],width=0.3, color='b', align='center')\n",
    "plt.bar(ti[st:fi]+0.15,pr2[st:fi],width=0.3, color='r', align='center')"
   ]
  },
  {
   "cell_type": "markdown",
   "metadata": {},
   "source": [
    "### 2 or More Years"
   ]
  },
  {
   "cell_type": "code",
   "execution_count": 84,
   "metadata": {},
   "outputs": [],
   "source": [
    "st=1931\n",
    "fi=2020\n",
    "\n",
    "for i in range(st,fi+1):\n",
    "    \n",
    "    na=globals()['pri_c'+str(i)]\n",
    "    na=np.array(na)\n",
    "    \n",
    "    nd=globals()['date'+str(i)]\n",
    "    nd=np.array(nd)\n",
    "    \n",
    "    if i == st:\n",
    "        dpr=(na[1:]-na[:-1])/na[:-1]\n",
    "        \n",
    "        da=nd\n",
    "\n",
    "    else:\n",
    "        tdpr=(na[1:]-na[:-1])/na[:-1]\n",
    "\n",
    "        tnd=np.array(nd)\n",
    "\n",
    "        \n",
    "        dpr=np.hstack([dpr,tdpr])\n",
    "        da=np.hstack([da,tnd])              \n",
    "        "
   ]
  },
  {
   "cell_type": "code",
   "execution_count": 85,
   "metadata": {},
   "outputs": [],
   "source": [
    "vp=dict(zip(da,dpr))\n",
    "\n",
    "def f2(x):\n",
    "    return x[1]\n",
    "\n",
    "res= sorted(vp.items(), key=f2)\n",
    "\n",
    "dat=[]\n",
    "ddpr=[]\n",
    "\n",
    "for i in range(len(res)):\n",
    "        dat.append(res[i][0])\n",
    "        ddpr.append(res[i][1])\n",
    "        \n",
    "dat=np.array(dat)\n",
    "ddpr=np.array(ddpr)"
   ]
  },
  {
   "cell_type": "code",
   "execution_count": 92,
   "metadata": {},
   "outputs": [
    {
     "name": "stdout",
     "output_type": "stream",
     "text": [
      "90\n"
     ]
    }
   ],
   "source": [
    "days=(fi-st+1)*1\n",
    "\n",
    "print(days)\n",
    "\n",
    "ydat=dat[:-days]\n",
    "ydpr=ddpr[:-days]\n",
    "\n",
    "#ydat=dat[days:]\n",
    "#ydpr=ddpr[days:]"
   ]
  },
  {
   "cell_type": "code",
   "execution_count": 93,
   "metadata": {},
   "outputs": [
    {
     "name": "stdout",
     "output_type": "stream",
     "text": [
      "-33.92637774831763 -0.4593866622750853\n"
     ]
    }
   ],
   "source": [
    "x0=1.0\n",
    "x=x0\n",
    "\n",
    "for per in ydpr:\n",
    "    x=x*(1.+per)\n",
    "\n",
    "r= ((x/x0)-1. )*100 \n",
    "r1=(1+r/100.)**(1./(fi-st+1))-1.\n",
    "\n",
    "print( r,  r1*100)"
   ]
  },
  {
   "cell_type": "markdown",
   "metadata": {},
   "source": [
    "# KOSPI"
   ]
  },
  {
   "cell_type": "code",
   "execution_count": 205,
   "metadata": {},
   "outputs": [],
   "source": [
    "df=pd.read_excel(\"KOSPI 1988.xls\")"
   ]
  },
  {
   "cell_type": "code",
   "execution_count": 206,
   "metadata": {},
   "outputs": [],
   "source": [
    "date=df[\"일자\"]\n",
    "pric=df[\"현재지수\"]\n",
    "\n",
    "price=[]\n",
    "\n",
    "for i in range(len(pric)):\n",
    "    price.append( float(pric[i].replace(',','')) )\n",
    "    \n"
   ]
  },
  {
   "cell_type": "code",
   "execution_count": 207,
   "metadata": {},
   "outputs": [],
   "source": [
    "ytr=1988\n",
    "k=0\n",
    "\n",
    "ar=list()\n",
    "\n",
    "for i in range(len(date)):\n",
    "    tmp=int(date[i][0:4])\n",
    "    \n",
    "    if tmp == ytr:\n",
    "        k+=1\n",
    "    else:\n",
    "        k+=1\n",
    "    \n",
    "        ar.append(k)\n",
    "        ytr+=1\n",
    "            \n",
    "        k=0"
   ]
  },
  {
   "cell_type": "code",
   "execution_count": 208,
   "metadata": {},
   "outputs": [],
   "source": [
    "nar=list()\n",
    "\n",
    "for i in range(len(ar)+1):\n",
    "    nar.append(sum(ar[0:i]))"
   ]
  },
  {
   "cell_type": "code",
   "execution_count": 209,
   "metadata": {},
   "outputs": [],
   "source": [
    "for i in range(len(ar)+1):\n",
    "    dp_o='price'+str(1988+i)\n",
    "    dt='date'+str(1988+i)\n",
    "    \n",
    "    if i == len(ar):\n",
    "        ix=int(nar[i])\n",
    "        globals()[dp_o]=price[ix-1:]\n",
    "        globals()[dt]=date[ix-1:]\n",
    "        \n",
    "    else:\n",
    "        \n",
    "        ix1=int(nar[i])\n",
    "        ix2=int(nar[i+1])\n",
    "        globals()[dp_o]=price[ix1:ix2-1]#date[0:250]\n",
    "        globals()[dt]=date[ix1:ix2-1]\n",
    "    "
   ]
  },
  {
   "cell_type": "markdown",
   "metadata": {},
   "source": [
    "# One Year"
   ]
  },
  {
   "cell_type": "code",
   "execution_count": 210,
   "metadata": {},
   "outputs": [],
   "source": [
    "yr=2015\n",
    "\n",
    "da=globals()[\"date\"+str(yr)]\n",
    "dpr=globals()[\"price\"+str(yr)]\n",
    "\n",
    "vp=dict(zip(da,dpr))\n",
    "\n",
    "def f2(x):\n",
    "    return x[1]\n",
    "\n",
    "res= sorted(vp.items(), key=f2)\n",
    "\n",
    "dat=[]\n",
    "ddpr=[]\n",
    "\n",
    "for i in range(len(res)):\n",
    "        dat.append(res[i][0])\n",
    "        ddpr.append(res[i][1])\n",
    "        \n",
    "dat=np.array(dat)\n",
    "ddpr=np.array(ddpr)"
   ]
  },
  {
   "cell_type": "code",
   "execution_count": 211,
   "metadata": {},
   "outputs": [],
   "source": [
    "pdat=dat[1:]\n",
    "dpr=(ddpr[1:]-ddpr[:-1])/ddpr[:-1]*100"
   ]
  },
  {
   "cell_type": "markdown",
   "metadata": {},
   "source": [
    "## One Each Year"
   ]
  },
  {
   "cell_type": "code",
   "execution_count": 221,
   "metadata": {},
   "outputs": [
    {
     "name": "stdout",
     "output_type": "stream",
     "text": [
      "1988  -  5 Days           70.51  \t All days           70.51\n",
      "1989  -  5 Days           -0.85  \t All days           -0.85\n",
      "1990  -  5 Days          -25.05  \t All days          -25.05\n",
      "1991  -  5 Days          -12.43  \t All days          -12.43\n",
      "1992  -  5 Days            4.33  \t All days            4.33\n",
      "1993  -  5 Days           25.39  \t All days           25.39\n",
      "1994  -  5 Days           17.11  \t All days           17.11\n",
      "1995  -  5 Days          -11.44  \t All days          -11.44\n",
      "1996  -  5 Days          -24.27  \t All days          -24.27\n",
      "1997  -  5 Days          -41.51  \t All days          -41.51\n",
      "1998  -  5 Days           41.86  \t All days           41.86\n",
      "1999  -  5 Days           71.76  \t All days           71.76\n",
      "2000  -  5 Days          -48.84  \t All days          -48.84\n",
      "2001  -  5 Days           33.04  \t All days           33.04\n",
      "2002  -  5 Days          -13.76  \t All days          -13.76\n",
      "2003  -  5 Days           22.63  \t All days           22.63\n",
      "2004  -  5 Days            8.71  \t All days            8.71\n",
      "2005  -  5 Days           55.53  \t All days           55.53\n",
      "2006  -  5 Days            2.84  \t All days            2.84\n",
      "2007  -  5 Days           34.61  \t All days           34.61\n",
      "2008  -  5 Days          -39.31  \t All days          -39.31\n",
      "2009  -  5 Days           43.39  \t All days           43.39\n",
      "2010  -  5 Days           21.32  \t All days           21.32\n",
      "2011  -  5 Days          -12.44  \t All days          -12.44\n",
      "2012  -  5 Days            6.49  \t All days            6.49\n",
      "2013  -  5 Days           -0.40  \t All days           -0.40\n",
      "2014  -  5 Days           -1.57  \t All days           -1.57\n",
      "2015  -  5 Days            2.38  \t All days            2.38\n",
      "2016  -  5 Days            4.97  \t All days            4.97\n",
      "2017  -  5 Days           20.72  \t All days           20.72\n",
      "2018  -  5 Days          -17.91  \t All days          -17.91\n",
      "2019  -  5 Days           10.23  \t All days           10.23\n",
      "2020  -  5 Days           26.26  \t All days           26.26\n"
     ]
    }
   ],
   "source": [
    "p=5\n",
    "\n",
    "ti=[]\n",
    "pr1=[]\n",
    "pr2=[]\n",
    "\n",
    "for yr in range(1988,2021):\n",
    "#yr=2015\n",
    "\n",
    "    na=globals()['price'+str(yr)]\n",
    "    na=np.array(na)\n",
    "    da=globals()['date'+str(yr)]\n",
    "    da=da[1:]\n",
    "    \n",
    "    dpr=(na[1:]-na[:-1])/na[:-1]\n",
    "    dpr.sort()\n",
    "    \n",
    "    tdpr=dpr[:]\n",
    "    #tdpr=dpr[p:]\n",
    "    \n",
    "    x0=1.0\n",
    "    x=x0\n",
    "    y=x0\n",
    "    \n",
    "    for per in tdpr:\n",
    "        x=x*(1.+per)\n",
    "\n",
    "    tr= ((x/x0)-1. )*100 \n",
    "    pr1.append(tr)\n",
    "    #tr1=(1+tr/100.)**(1./(fi-st+1))-1.\n",
    "\n",
    "    for per in dpr:\n",
    "\n",
    "        y=y*(1.+per)\n",
    "\n",
    "    r= ((y/x0)-1. )*100 \n",
    "    #r1=(1+r/100.)**(1./(fi-st+1))-1.\n",
    "    pr2.append(r)\n",
    "    ti.append(yr)\n",
    "    \n",
    "    print(yr, ' - ', str(p)+' Days %15.2f  \\t All days %15.2f' % (tr,r) )\n",
    "    "
   ]
  },
  {
   "cell_type": "markdown",
   "metadata": {},
   "source": [
    "## More than 2 years"
   ]
  },
  {
   "cell_type": "code",
   "execution_count": 188,
   "metadata": {},
   "outputs": [],
   "source": [
    "st=1988\n",
    "fi=2020\n",
    "\n",
    "for i in range(st,fi+1):\n",
    "    \n",
    "    na=globals()['price'+str(i)]\n",
    "    na=np.array(na)\n",
    "    \n",
    "    nd=globals()['date'+str(i)]\n",
    "    nd=np.array(nd[1:])\n",
    "    \n",
    "    if i == st:\n",
    "        dpr=(na[1:]-na[:-1])/na[:-1]\n",
    "        \n",
    "        da=nd\n",
    "\n",
    "    else:\n",
    "        tdpr=(na[1:]-na[:-1])/na[:-1]\n",
    "\n",
    "        tnd=np.array(nd)\n",
    "    \n",
    "        dpr=np.hstack([dpr,tdpr])\n",
    "        da=np.hstack([da,tnd])              \n",
    "        "
   ]
  },
  {
   "cell_type": "code",
   "execution_count": 190,
   "metadata": {},
   "outputs": [],
   "source": [
    "vp=dict(zip(da,dpr))\n",
    "\n",
    "def f2(x):\n",
    "    return x[1]\n",
    "\n",
    "res= sorted(vp.items(), key=f2)\n",
    "\n",
    "dat=[]\n",
    "ddpr=[]\n",
    "\n",
    "for i in range(len(res)):\n",
    "        dat.append(res[i][0])\n",
    "        ddpr.append(res[i][1])\n",
    "        \n",
    "dat=np.array(dat)\n",
    "ddpr=np.array(ddpr)"
   ]
  },
  {
   "cell_type": "code",
   "execution_count": 191,
   "metadata": {},
   "outputs": [
    {
     "data": {
      "text/plain": [
       "array(['2001/09/12', '2000/04/17', '2008/10/24', ..., '1998/06/17',\n",
       "       '2020/03/24', '2008/10/30'], dtype='<U10')"
      ]
     },
     "execution_count": 191,
     "metadata": {},
     "output_type": "execute_result"
    }
   ],
   "source": [
    "dat"
   ]
  },
  {
   "cell_type": "code",
   "execution_count": 195,
   "metadata": {},
   "outputs": [
    {
     "name": "stdout",
     "output_type": "stream",
     "text": [
      "['2001/09/12' '2000/04/17' '2008/10/24' '2008/10/16' '2020/03/19'\n",
      " '1998/06/12' '2000/09/18' '2008/11/06' '1997/12/23' '2008/10/23'\n",
      " '1999/07/23' '2000/09/22' '1997/11/24' '2002/06/26' '1997/12/12'\n",
      " '2007/08/16' '1997/11/07' '1998/05/25' '2000/10/17' '2008/11/20'] \n",
      " [-12.01879498 -11.63330794 -10.57053853  -9.43832632  -8.39366516\n",
      "  -8.09552784  -8.06112703  -7.55649598  -7.49886381  -7.48111653\n",
      "  -7.34134704  -7.17126126  -7.16684177  -7.15022754  -7.07263428\n",
      "  -6.92616165  -6.90414718  -6.78275523  -6.77149609  -6.70030094]\n",
      "['1998/01/19' '2000/08/09' '2000/11/01' '1997/12/26' '1997/12/05'\n",
      " '1997/12/04' '2001/01/04' '1998/06/18' '1997/12/15' '2020/03/20'\n",
      " '1998/10/09' '2008/12/08' '2002/02/14' '1998/01/30' '1998/12/21'\n",
      " '1998/12/10' '2000/03/02' '1998/06/17' '2020/03/24' '2008/10/30'] \n",
      " [ 6.62620234  6.62833293  6.66303841  6.74349125  6.97617111  6.98636999\n",
      "  7.01724105  7.13603897  7.22027681  7.44422491  7.45036367  7.48154416\n",
      "  7.64134873  7.65270708  7.70124798  7.80407202  8.00115889  8.50357143\n",
      "  8.60124388 11.94567427]\n"
     ]
    }
   ],
   "source": [
    "print(dat[0:20], '\\n',ddpr[0:20]*100)\n",
    "print(dat[-20:], '\\n', ddpr[-20:]*100)"
   ]
  },
  {
   "cell_type": "code",
   "execution_count": null,
   "metadata": {},
   "outputs": [],
   "source": []
  }
 ],
 "metadata": {
  "kernelspec": {
   "display_name": "Python 3",
   "language": "python",
   "name": "python3"
  },
  "language_info": {
   "codemirror_mode": {
    "name": "ipython",
    "version": 3
   },
   "file_extension": ".py",
   "mimetype": "text/x-python",
   "name": "python",
   "nbconvert_exporter": "python",
   "pygments_lexer": "ipython3",
   "version": "3.7.4"
  }
 },
 "nbformat": 4,
 "nbformat_minor": 2
}
