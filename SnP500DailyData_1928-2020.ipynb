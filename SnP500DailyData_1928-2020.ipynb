{
 "cells": [
  {
   "cell_type": "code",
   "execution_count": 1,
   "metadata": {},
   "outputs": [],
   "source": [
    "import pandas as pd\n",
    "import matplotlib.pyplot as plt\n",
    "import numpy as np\n",
    "\n",
    "df=pd.read_csv(\"Snp 500 Daily 1928.csv\")"
   ]
  },
  {
   "cell_type": "code",
   "execution_count": 2,
   "metadata": {},
   "outputs": [],
   "source": [
    "date=list(df[\"Date\"])\n",
    "price=list(df[\"Close\"])\n",
    "\n",
    "yr=range(1928,2021,1)"
   ]
  },
  {
   "cell_type": "markdown",
   "metadata": {},
   "source": [
    "# Biggest Down & Biggest Up Days"
   ]
  },
  {
   "cell_type": "code",
   "execution_count": 3,
   "metadata": {},
   "outputs": [],
   "source": [
    "pr=np.array(price)\n",
    "prt=(pr[1:]-pr[0:-1])/pr[0:-1]*100\n",
    "\n",
    "x=dict(zip(date[1:],prt))\n",
    "\n",
    "import operator\n",
    "s1=sorted(x.items(), key=operator.itemgetter(1))\n",
    "down=pd.DataFrame(s1[0:40])\n",
    "\n",
    "s2=sorted(x.items(), key=operator.itemgetter(1), reverse=True)\n",
    "up=pd.DataFrame(s2[0:40])"
   ]
  },
  {
   "cell_type": "code",
   "execution_count": 4,
   "metadata": {},
   "outputs": [],
   "source": [
    "#print( up ,'\\n\\n', down )"
   ]
  },
  {
   "cell_type": "code",
   "execution_count": 9,
   "metadata": {},
   "outputs": [
    {
     "data": {
      "image/png": "[encoded data removed]",
      "text/plain": [
       "<Figure size 864x432 with 1 Axes>"
      ]
     },
     "metadata": {
      "needs_background": "light"
     },
     "output_type": "display_data"
    },
    {
     "data": {
      "image/png": "[encoded data removed]",
      "text/plain": [
       "<Figure size 864x432 with 1 Axes>"
      ]
     },
     "metadata": {
      "needs_background": "light"
     },
     "output_type": "display_data"
    },
    {
     "name": "stdout",
     "output_type": "stream",
     "text": [
      "-1% ~ 1% 75.79416045894341 %\n",
      "-2% ~ 2% 93.14581727887662 %\n",
      "-3% ~ 3% 97.2300710677284 %\n",
      "-4% ~ 4% 98.67283157804606 %\n",
      "10812.0 12545.0\n"
     ]
    }
   ],
   "source": [
    "p=np.zeros(16)\n",
    "q=np.arange(-7.5,8.5,1)\n",
    "\n",
    "for val in prt:\n",
    "    if val < -7:\n",
    "        p[0]+=1\n",
    "    elif val < -6:\n",
    "        p[1]+=1\n",
    "    elif val < -5:\n",
    "        p[2]+=1\n",
    "    elif val < -4:\n",
    "        p[3]+=1\n",
    "    elif val < -3:\n",
    "        p[4]+=1\n",
    "    elif val < -2:\n",
    "        p[5]+=1\n",
    "    elif val < -1:\n",
    "        p[6]+=1\n",
    "    elif val < 0:\n",
    "        p[7]+=1\n",
    "    elif val < 1:\n",
    "        p[8]+=1\n",
    "    elif val < 2:\n",
    "        p[9]+=1\n",
    "    elif val < 3:\n",
    "        p[10]+=1\n",
    "    elif val < 4:\n",
    "        p[11]+=1\n",
    "    elif val < 5:\n",
    "        p[12]+=1\n",
    "    elif val < 6:\n",
    "        p[13]+=1\n",
    "    elif val < 7:\n",
    "        p[14]+=1\n",
    "    else:\n",
    "        p[15]+=1\n",
    "        \n",
    "p=p/len(date)\n",
    "\n",
    "plt.figure(figsize=(12,6))\n",
    "plt.bar(q,p)\n",
    "plt.title('1928-2020 S&P 500 year Daily Change(%)')\n",
    "plt.xticks([-7,-6,-5,-4,-3,-2,-1,0,1,2,3,4,5,6,7], labels=[\"-7%\",\"-6%\",\"-5%\",\"-4%\",\"-3%\",\"-2%\",\"-1%\",\"0%\",\"1%\",\"2%\",\"3%\",\"4%\",\"5%\",\"6%\",\"7%\"])\n",
    "plt.yticks([0.1,0.2,0.3,0.4,0.5], labels=[\"10%\",\"20%\",\"30%\",\"40%\",\"50%\" ])\n",
    "\n",
    "plt.rc('font', size=14) \n",
    "plt.show()\n",
    "\n",
    "plt.figure(figsize=(12,6))\n",
    "plt.bar(q,p*len(date))\n",
    "plt.title('1928-2020 S&P 500 year Number of Daily Change')\n",
    "plt.xticks([-7,-6,-5,-4,-3,-2,-1,0,1,2,3,4,5,6,7], labels=[\"-7%\",\"-6%\",\"-5%\",\"-4%\",\"-3%\",\"-2%\",\"-1%\",\"0%\",\"1%\",\"2%\",\"3%\",\"4%\",\"5%\",\"6%\",\"7%\"])\n",
    "#plt.yticks([0, 0.25, 0.5, 0.75, 1], labels=[\"0%\",\"0.25%\", \"0.5%\",\"0.75%\", \"1%\"])\n",
    "plt.ylim(0.0, 50)\n",
    "plt.rc('font', size=14) \n",
    "plt.show()\n",
    "\n",
    "df=pd.DataFrame(p*100,q)\n",
    "\n",
    "print(\"-1% ~ 1%\", (p[7]+p[8])*100,\"%\" )\n",
    "print(\"-2% ~ 2%\", (p[6]+p[7]+p[8]+p[9])*100,\"%\" )\n",
    "print(\"-3% ~ 3%\", (p[5]+p[6]+p[7]+p[8]+p[9]+p[10])*100,\"%\" )\n",
    "print(\"-4% ~ 4%\", (p[4]+p[5]+p[6]+p[7]+p[8]+p[9]+p[10]+p[11])*100,\"%\" )\n",
    "\n",
    "print(sum(p[:8])*len(date), sum(p[8:])*len(date))"
   ]
  },
  {
   "cell_type": "markdown",
   "metadata": {},
   "source": [
    "# Calculate Number of Days"
   ]
  },
  {
   "cell_type": "code",
   "execution_count": null,
   "metadata": {},
   "outputs": [],
   "source": [
    "ytr=1928\n",
    "k=0\n",
    "\n",
    "ar=list()\n",
    "\n",
    "for i in range(len(date)):\n",
    "    tmp=int(date[i][0:4])\n",
    "    \n",
    "    if tmp == ytr:\n",
    "        k+=1\n",
    "    else:\n",
    "        k+=1\n",
    "    \n",
    "        ar.append(k)\n",
    "        ytr+=1\n",
    "            \n",
    "        k=0"
   ]
  },
  {
   "cell_type": "code",
   "execution_count": null,
   "metadata": {},
   "outputs": [],
   "source": [
    "nar=list()\n",
    "\n",
    "for i in range(len(ar)+1):\n",
    "    nar.append(sum(ar[0:i]))"
   ]
  },
  {
   "cell_type": "markdown",
   "metadata": {},
   "source": [
    "# Extract data for each year"
   ]
  },
  {
   "cell_type": "code",
   "execution_count": null,
   "metadata": {},
   "outputs": [],
   "source": [
    "for i in range(len(ar)+1):\n",
    "    \n",
    "    if i == len(ar):\n",
    "        ijk=int(nar[i])\n",
    "\n",
    "    else:\n",
    "        \n",
    "        ix1=int(nar[i])\n",
    "        ix2=int(nar[i+1])"
   ]
  },
  {
   "cell_type": "code",
   "execution_count": null,
   "metadata": {},
   "outputs": [],
   "source": [
    "for i in range(len(ar)+1):\n",
    "    dp='price'+str(1928+i)\n",
    "    dt='date'+str(1928+i)\n",
    "    \n",
    "    if i == len(ar):\n",
    "        ix=int(nar[i])\n",
    "        globals()[dp]=price[ix-1:]\n",
    "        globals()[dt]=date[ix-1:]\n",
    "    else:\n",
    "        \n",
    "        ix1=int(nar[i])\n",
    "        ix2=int(nar[i+1])\n",
    "        globals()[dp]=price[ix1:ix2-1]#date[0:250]\n",
    "        globals()[dt]=date[ix1:ix2-1]"
   ]
  },
  {
   "cell_type": "markdown",
   "metadata": {},
   "source": [
    "# Data Classification ( -6 % ~ +6 % )"
   ]
  },
  {
   "cell_type": "code",
   "execution_count": null,
   "metadata": {},
   "outputs": [],
   "source": [
    "clas=[1929,1930,1931,1932,1933,1987,1995,2008,2020]"
   ]
  },
  {
   "cell_type": "code",
   "execution_count": null,
   "metadata": {
    "scrolled": false
   },
   "outputs": [],
   "source": [
    "\n",
    "q=np.arange(-6.5,7.5,1)\n",
    "\n",
    "surf=[]\n",
    "\n",
    "#for st in range(1928,2021):\n",
    "\n",
    "for st in clas:\n",
    "    \n",
    "    print(st)\n",
    "    \n",
    "    p=np.zeros(14)\n",
    "    \n",
    "    x=[]\n",
    "\n",
    "    qq= globals()['price'+str(st)]\n",
    "    \n",
    "    for i in range(len( qq)-1):\n",
    "        x.append ( (qq[i+1]-qq[i])/qq[i]*100)\n",
    "\n",
    "    for val in x:\n",
    "        \n",
    "\n",
    "        if val < -6:\n",
    "            p[0]+=1\n",
    "        elif val < -5:\n",
    "            p[1]+=1\n",
    "        elif val < -4:\n",
    "            p[2]+=1\n",
    "        elif val < -3:\n",
    "            p[3]+=1\n",
    "        elif val < -2:\n",
    "            p[4]+=1\n",
    "        elif val < -1:\n",
    "            p[5]+=1\n",
    "        elif val < 0:\n",
    "            p[6]+=1\n",
    "        elif val < 1:\n",
    "            p[7]+=1\n",
    "        elif val < 2:\n",
    "            p[8]+=1\n",
    "        elif val < 3:\n",
    "            p[9]+=1\n",
    "        elif val < 4:\n",
    "            p[10]+=1\n",
    "        elif val < 5:\n",
    "            p[11]+=1\n",
    "        elif val < 6:\n",
    "            p[12]+=1\n",
    "        else:\n",
    "            p[13]+=1\n",
    "    \n",
    "    tmp=p.copy()\n",
    "    p=p/sum(p)\n",
    "    \n",
    "    surf.append(p)\n",
    "    \n",
    "    xx=[2.5,3.5,4.5,5.5,6.5]\n",
    "    yy=[tmp[4]+tmp[9],tmp[3]+tmp[10],tmp[2]+tmp[11],tmp[1]+tmp[12],tmp[0]+tmp[13] ]\n",
    "    \n",
    "\n",
    "    \n",
    "    plt.figure(figsize=(15,6))\n",
    "    plt.subplot(1,2,1)\n",
    "    plt.bar(q,tmp)\n",
    "    plt.title(str(st)+' S&P 500 year Daily Variation')\n",
    "    plt.xticks([-6,-5,-4,-3,-2,-1,0,1,2,3,4,5,6], labels=[\"-6%\",\"-5%\",\"-4%\",\"-3%\",\"-2%\",\"-1%\",\"0%\",\"1%\",\"2%\",\"3%\",\"4%\",\"5%\",\"6%\"])\n",
    "\n",
    "    plt.rc('font', size=14) \n",
    "    #plt.show()\n",
    "\n",
    "    #plt.figure(figsize=(9,4))\n",
    "    plt.subplot(1,2,2)\n",
    "    plt.bar(xx,yy)\n",
    "    plt.title(str(st)+' S&P 500 year Daily Up and Down Variation')\n",
    "    plt.xticks([2,3,4,5,6], labels=[\"2%<\",\"3%<\",\"4%<\",\"5%<\",\"6%<\"])\n",
    "\n",
    "    plt.rc('font', size=14) \n",
    "    plt.ylim(0,45)\n",
    "    plt.show()\n",
    "    \n",
    "    print(tmp)\n",
    "    print(yy)\n",
    "    \n",
    "surf=np.array(surf)\n",
    "\n",
    "#plt.figure(figsize=(12,12))\n",
    "#plt.imshow(X,Y,surf)\n",
    "#plt.contourf(X,Y,surf,13,cmap='gist_rainbow')\n",
    "#plt.colorbar()\n",
    "#plt.show()"
   ]
  },
  {
   "cell_type": "code",
   "execution_count": null,
   "metadata": {},
   "outputs": [],
   "source": [
    "# year=1958\n",
    "\n",
    "# plt.figure(figsize=(8,4))\n",
    "# plt.bar(q,surf[year-1928])\n",
    "# plt.title(str(year)+' S&P 500 year Daily Change(%)')\n",
    "# plt.xticks([-6,-5,-4,-3,-2,-1,0,1,2,3,4,5,6], labels=[\"-6%\",\"-5%\",\"-4%\",\"-3%\",\"-2%\",\"-1%\",\"0%\",\"1%\",\"2%\",\"3%\",\"4%\",\"5%\",\"6%\"])\n",
    "# plt.yticks([0.1,0.2,0.3,0.4,0.5,0.6], labels=[\"10%\",\"20%\",\"30%\",\"40%\",\"50%\",\"60%\"])\n",
    "# plt.ylim(0.0, 0.6)\n",
    "# plt.rc('font', size=14) \n",
    "# plt.show()\n"
   ]
  },
  {
   "cell_type": "code",
   "execution_count": null,
   "metadata": {
    "scrolled": true
   },
   "outputs": [],
   "source": [
    "# from mpl_toolkits import mplot3d\n",
    "\n",
    "# year=np.arange(1928,2021)\n",
    "# surf=np.array(surf)\n",
    "# X,Y= np.meshgrid(q,year)\n",
    "\n",
    "# plt.figure(figsize=(12,12))\n",
    "# plt.contourf(X, Y, surf)\n",
    "# plt.colorbar()\n",
    "# plt.show()\n"
   ]
  },
  {
   "cell_type": "markdown",
   "metadata": {},
   "source": [
    "# Data Classification ( abs percent )"
   ]
  },
  {
   "cell_type": "code",
   "execution_count": null,
   "metadata": {
    "scrolled": false
   },
   "outputs": [],
   "source": [
    "#for st in range(1928,2021):\n",
    "\n",
    "for st in clas:\n",
    "        \n",
    "    x=[]\n",
    "\n",
    "    qq= globals()['price'+str(st)]\n",
    "    \n",
    "    for i in range(len( qq)-1):\n",
    "        x.append ( (qq[i+1]-qq[i])/qq[i]*100)\n",
    "\n",
    "\n",
    "    k0=0; k1=0; k2=0; k3=0; k4=0; k5=0; k6=0;\n",
    "    \n",
    "    for val in x:\n",
    "\n",
    "        if abs(val) > 6:\n",
    "            k6+=1\n",
    "        elif abs(val) > 5:\n",
    "            k5+=1    \n",
    "        elif abs(val) > 4:\n",
    "            k4+=1\n",
    "        elif abs(val) > 3:\n",
    "            k3+=1\n",
    "        elif abs(val) > 2:\n",
    "            k2+=1\n",
    "        elif abs(val) > 1:\n",
    "            k1+=1\n",
    "        else:\n",
    "            k0+=1\n",
    "        \n",
    "    p1=[2,3,4,5,6]\n",
    "    p2=[k2,k3,k4,k5,k6]\n",
    "\n",
    "    su=k0+k1+k2+k3+k4+k5+k6\n",
    "    \n",
    "    plt.bar(p1,p2)\n",
    "    plt.title(str(st)+' year S&P 500 Daily Up and Down Change (%) ',fontsize=12)\n",
    "    plt.xticks(p1,labels=['2%<','3%<','4%<','5%<','6%<'])\n",
    "    plt.rc('font',size=14)\n",
    "    plt.show()\n",
    "    print(k2,k3,k4,k5,k6, su)"
   ]
  },
  {
   "cell_type": "code",
   "execution_count": null,
   "metadata": {},
   "outputs": [],
   "source": [
    "yrs=1931\n",
    "\n",
    "plt.figure(figsize=(10,6))\n",
    "plt.plot(globals()['date'+str(yrs)], globals()['price'+str(yrs)] )\n",
    "plt.xticks(globals()['date'+str(yrs)][::22],labels=globals()['date'+str(yrs)][::22], rotation=60)\n",
    "plt.rc('font',size=12)\n",
    "plt.title(str(yrs)+' S&P 500 Index')\n",
    "plt.show()"
   ]
  },
  {
   "cell_type": "code",
   "execution_count": null,
   "metadata": {},
   "outputs": [],
   "source": []
  },
  {
   "cell_type": "markdown",
   "metadata": {},
   "source": [
    "# Divide"
   ]
  },
  {
   "cell_type": "code",
   "execution_count": null,
   "metadata": {},
   "outputs": [],
   "source": [
    "year=np.zeros(93)\n",
    "\n",
    "for i in range(93):\n",
    "    for j in range(len(date)):    \n",
    "    \n",
    "        k=1928+i\n",
    "        if str(k) in date[j]:\n",
    "            year[i]+=1"
   ]
  },
  {
   "cell_type": "code",
   "execution_count": null,
   "metadata": {},
   "outputs": [],
   "source": [
    "sr_ix=[]\n",
    "sr_date=[]\n",
    "\n",
    "for i in range(len(year)-1):\n",
    "    ix=int(np.sum(year[:i]))\n",
    "    \n",
    "    sr_ix.append(ix)\n",
    "    sr_date.append(date[ix])"
   ]
  },
  {
   "cell_type": "code",
   "execution_count": null,
   "metadata": {},
   "outputs": [],
   "source": [
    "plt.figure(figsize=(12,6))\n",
    "plt.plot(date,price)\n",
    "plt.xticks(sr_ix[::4], sr_date[::4],rotation=60)\n",
    "plt.yscale('log')\n",
    "plt.title('1928 - 2020 S&P 500 Index')\n",
    "plt.rc('font',size=12)\n",
    "plt.yticks([10,30,100,300,700,1000,2000,3000,3500],labels=['10','30','100','300','1,000','2,000','3,000','3,500'])\n",
    "plt.show()"
   ]
  },
  {
   "cell_type": "code",
   "execution_count": null,
   "metadata": {},
   "outputs": [],
   "source": [
    "da1=date1930+date1931+date1932+date1933+date1934\n",
    "pr1=price1930+price1931+price1932+price1933+price1934\n",
    "\n",
    "\n",
    "plt.figure(figsize=(12,6))\n",
    "plt.title('1930 - 1934 S&P 500 Index')\n",
    "plt.plot(da1,pr1)\n",
    "plt.xticks(da1[::40], da1[::40],rotation=60)\n",
    "\n",
    "plt.show()"
   ]
  },
  {
   "cell_type": "code",
   "execution_count": null,
   "metadata": {},
   "outputs": [],
   "source": [
    "# #da1=date1930+date1931+date1932+date1933+date1934+date1935+date1936+date1937+date1938\n",
    "# #pr1=price1930+price1931+price1932+price1933+price1934+price1935+price1936+price1937+price1938\n",
    "\n",
    "# da1=date1930+date1931+date1932+date1933+date1934+date1935+date1936+date1937+date1938+date1939+date1940\n",
    "# pr1=price1930+price1931+price1932+price1933+price1934+price1935+price1936+price1937+price1938+price1939+price1940\n",
    "\n",
    "\n",
    "# plt.figure(figsize=(12,12))\n",
    "# plt.plot(da1,pr1)\n",
    "# plt.xticks(da1[::60], da1[::60],rotation=60)\n",
    "\n",
    "# plt.show()"
   ]
  },
  {
   "cell_type": "code",
   "execution_count": null,
   "metadata": {},
   "outputs": [],
   "source": [
    "(3723./17.76)**(1./93)-1"
   ]
  },
  {
   "cell_type": "code",
   "execution_count": null,
   "metadata": {},
   "outputs": [],
   "source": []
  }
 ],
 "metadata": {
  "kernelspec": {
   "display_name": "Python 3",
   "language": "python",
   "name": "python3"
  },
  "language_info": {
   "codemirror_mode": {
    "name": "ipython",
    "version": 3
   },
   "file_extension": ".py",
   "mimetype": "text/x-python",
   "name": "python",
   "nbconvert_exporter": "python",
   "pygments_lexer": "ipython3",
   "version": "3.7.4"
  }
 },
 "nbformat": 4,
 "nbformat_minor": 2
}
